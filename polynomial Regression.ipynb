{
 "cells": [
  {
   "cell_type": "markdown",
   "metadata": {},
   "source": [
    "# Polynomial Regression"
   ]
  },
  {
   "cell_type": "code",
   "execution_count": 23,
   "metadata": {},
   "outputs": [],
   "source": [
    "import numpy as np \n",
    "import pandas as pd \n",
    "import matplotlib.pyplot as plt\n",
    "\n",
    "data = pd.read_csv('Assignment-1_Diamond_price.csv')\n",
    "data.head(10)\n",
    "\n",
    "x = data[['carat']]\n",
    "y = data['price']\n"
   ]
  },
  {
   "cell_type": "code",
   "execution_count": 24,
   "metadata": {},
   "outputs": [],
   "source": [
    "from sklearn.linear_model import LinearRegression\n",
    "lin_reg = LinearRegression()\n",
    "lin_reg.fit(x, y)\n",
    "lin_preds= lin_reg.predict(x)\n"
   ]
  },
  {
   "cell_type": "code",
   "execution_count": 25,
   "metadata": {},
   "outputs": [
    {
     "name": "stdout",
     "output_type": "stream",
     "text": [
      "[[1.00000000e+00 2.30000000e-01 5.29000000e-02 1.21670000e-02\n",
      "  2.79841000e-03 6.43634300e-04]\n",
      " [1.00000000e+00 2.10000000e-01 4.41000000e-02 9.26100000e-03\n",
      "  1.94481000e-03 4.08410100e-04]\n",
      " [1.00000000e+00 2.30000000e-01 5.29000000e-02 1.21670000e-02\n",
      "  2.79841000e-03 6.43634300e-04]\n",
      " ...\n",
      " [1.00000000e+00 7.00000000e-01 4.90000000e-01 3.43000000e-01\n",
      "  2.40100000e-01 1.68070000e-01]\n",
      " [1.00000000e+00 8.60000000e-01 7.39600000e-01 6.36056000e-01\n",
      "  5.47008160e-01 4.70427018e-01]\n",
      " [1.00000000e+00 7.50000000e-01 5.62500000e-01 4.21875000e-01\n",
      "  3.16406250e-01 2.37304688e-01]]\n"
     ]
    }
   ],
   "source": [
    "from sklearn.preprocessing import  PolynomialFeatures\n",
    "poly_reg = PolynomialFeatures(degree = 5)\n",
    "x_poly = poly_reg.fit_transform(x)\n",
    "#poly_reg.fit(x_poly,y)\n",
    "print(x_poly)"
   ]
  },
  {
   "cell_type": "code",
   "execution_count": 26,
   "metadata": {},
   "outputs": [],
   "source": [
    "from sklearn.model_selection import train_test_split\n",
    "xtr, xts, ytr, yts=train_test_split(x_poly,y, test_size=0.25, random_state=0)"
   ]
  },
  {
   "cell_type": "code",
   "execution_count": 27,
   "metadata": {},
   "outputs": [
    {
     "data": {
      "text/plain": [
       "LinearRegression(copy_X=True, fit_intercept=True, n_jobs=None, normalize=False)"
      ]
     },
     "execution_count": 27,
     "metadata": {},
     "output_type": "execute_result"
    }
   ],
   "source": [
    "lin_reg_2 = LinearRegression()\n",
    "#model=lin_reg_2.fit(xtr, ytr)\n",
    "lin_reg_2.fit(xtr,ytr)"
   ]
  },
  {
   "cell_type": "code",
   "execution_count": 28,
   "metadata": {},
   "outputs": [],
   "source": [
    "#poly_preds=model.predict(xts)\n",
    "y_pred_poly = lin_reg_2.predict(xts)"
   ]
  },
  {
   "cell_type": "code",
   "execution_count": 29,
   "metadata": {},
   "outputs": [
    {
     "name": "stdout",
     "output_type": "stream",
     "text": [
      "1012.6232011320994\n",
      "[    0.         -4070.55631    10877.74512079 -2549.12323664\n",
      "  -280.3126183     84.67917628]\n"
     ]
    }
   ],
   "source": [
    "print(model.intercept_)\n",
    "print(model.coef_)\n",
    "#from sklearn.metrics import r2_score\n",
    "#r2_score(yts,poly_preds)*100"
   ]
  },
  {
   "cell_type": "code",
   "execution_count": 30,
   "metadata": {},
   "outputs": [
    {
     "data": {
      "text/plain": [
       "85.09930152739375"
      ]
     },
     "execution_count": 30,
     "metadata": {},
     "output_type": "execute_result"
    }
   ],
   "source": [
    "from sklearn.metrics import r2_score\n",
    "r2_score(y_pred_poly,yts)*100"
   ]
  },
  {
   "cell_type": "code",
   "execution_count": 32,
   "metadata": {},
   "outputs": [
    {
     "data": {
      "image/png": "[encoded data removed]",
      "text/plain": [
       "<Figure size 432x288 with 1 Axes>"
      ]
     },
     "metadata": {
      "needs_background": "light"
     },
     "output_type": "display_data"
    }
   ],
   "source": [
    "plt.scatter(x, y, color = 'red')\n",
    "x_grid=np.arange(0,5, 0.01)\n",
    "x_grid=x_grid.reshape(len(x_grid),1)\n",
    "plt.plot(x_grid,lin_reg_2.predict(poly_reg.fit_transform(x_grid)), color='green')\n",
    "\n",
    "plt.show()"
   ]
  },
  {
   "cell_type": "code",
   "execution_count": null,
   "metadata": {},
   "outputs": [],
   "source": []
  }
 ],
 "metadata": {
  "kernelspec": {
   "display_name": "Python 3",
   "language": "python",
   "name": "python3"
  },
  "language_info": {
   "codemirror_mode": {
    "name": "ipython",
    "version": 3
   },
   "file_extension": ".py",
   "mimetype": "text/x-python",
   "name": "python",
   "nbconvert_exporter": "python",
   "pygments_lexer": "ipython3",
   "version": "3.7.6"
  }
 },
 "nbformat": 4,
 "nbformat_minor": 4
}
